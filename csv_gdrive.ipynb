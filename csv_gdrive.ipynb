{
  "nbformat": 4,
  "nbformat_minor": 0,
  "metadata": {
    "colab": {
      "provenance": [],
      "mount_file_id": "1VXPuHkSjlbax9kq5Km6hVBhFk2gyyjbw",
      "authorship_tag": "ABX9TyOEMGy88H2DGFlpwmH4Eqak",
      "include_colab_link": true
    },
    "kernelspec": {
      "name": "python3",
      "display_name": "Python 3"
    },
    "language_info": {
      "name": "python"
    }
  },
  "cells": [
    {
      "cell_type": "markdown",
      "metadata": {
        "id": "view-in-github",
        "colab_type": "text"
      },
      "source": [
        "<a href=\"https://colab.research.google.com/github/iChoake/404/blob/master/csv_gdrive.ipynb\" target=\"_parent\"><img src=\"https://colab.research.google.com/assets/colab-badge.svg\" alt=\"Open In Colab\"/></a>"
      ]
    },
    {
      "cell_type": "code",
      "source": [
        "import pandas as pd\n",
        "import requests\n",
        "import os\n",
        "from google.colab import files, drive\n",
        "\n",
        "# Mount Google Drive\n",
        "drive.mount('/content/drive')\n",
        "\n",
        "def get_csv():\n",
        "    choice = input(\"Would you like to (u)pload or (c)hoose an existing CSV file? (u/c): \").lower()\n",
        "    if choice == 'u':\n",
        "        uploaded = files.upload()  # This will prompt you to upload a file.\n",
        "        file_name = list(uploaded.keys())[0]\n",
        "        data = pd.read_csv(file_name, header=None, names=['date', 'url'])\n",
        "    elif choice == 'c':\n",
        "        file_path = input(\"Enter the path to the CSV file in Google Drive: \")\n",
        "        data = pd.read_csv(file_path, header=None, names=['date', 'url'])\n",
        "    else:\n",
        "        print(\"Invalid choice. Please run the cell again.\")\n",
        "        return None\n",
        "    return data\n",
        "\n",
        "def download_images(data):\n",
        "    output_directory = input(\"Enter the directory in Google Drive where images should be saved: \")\n",
        "    for index, row in data.iterrows():\n",
        "        url = row['url']\n",
        "        date = row['date'].replace(' ', '_').replace(':', '-')\n",
        "\n",
        "        # Download the image\n",
        "        response = requests.get(url)\n",
        "        if response.status_code == 200:\n",
        "            image_path = os.path.join(output_directory, f'{date}.png')\n",
        "            with open(image_path, 'wb') as file:\n",
        "                file.write(response.content)\n",
        "        else:\n",
        "            print(f'Failed to download image from {url}')\n",
        "\n",
        "# Get the CSV data\n",
        "data = get_csv()\n",
        "if data is not None:\n",
        "    download_images(data)\n"
      ],
      "metadata": {
        "colab": {
          "base_uri": "https://localhost:8080/"
        },
        "id": "EcFZdtNDFNhk",
        "outputId": "79445e08-b632-4c92-f062-d22f958588c2"
      },
      "execution_count": null,
      "outputs": [
        {
          "name": "stdout",
          "output_type": "stream",
          "text": [
            "Drive already mounted at /content/drive; to attempt to forcibly remount, call drive.mount(\"/content/drive\", force_remount=True).\n",
            "Would you like to (u)pload or (c)hoose an existing CSV file? (u/c): c\n",
            "Enter the path to the CSV file in Google Drive: /content/drive/MyDrive/!!!CSV/All-mids-upscale.csv\n",
            "Enter the directory in Google Drive where images should be saved: /content/drive/MyDrive/!!!ALLMIDS/upscale\n"
          ]
        }
      ]
    }
  ]
}